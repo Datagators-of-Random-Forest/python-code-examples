{
  "nbformat": 4,
  "nbformat_minor": 0,
  "metadata": {
    "colab": {
      "provenance": []
    },
    "kernelspec": {
      "name": "python3",
      "display_name": "Python 3"
    },
    "language_info": {
      "name": "python"
    }
  },
  "cells": [
    {
      "cell_type": "code",
      "execution_count": null,
      "metadata": {
        "id": "AP8QjZBrudQG"
      },
      "outputs": [],
      "source": [
        "# Python dictionary example:\n",
        "\n",
        "datagators_birthdays = {\n",
        "    \"mama_dolores\": \"1987-03-23\",\n",
        "    \"dickie_the_dictionary\": \"2017-06-16\",\n",
        "    \"leutenant_the_list\": \"2018-06-07\",\n",
        "    \"lucy_the_loop\": \"2021-12-08\",\n",
        "    \"freddy_the_function\": \"2019-05-24\",\n",
        "    \"pyspark\": \"2020-04-28\"\n",
        "}\n",
        "\n",
        "# Calling the dictionary:\n",
        "\n",
        "datagators_birthdays['freddy_the_function']"
      ]
    },
    {
      "cell_type": "code",
      "source": [
        "# Python list example:\n",
        "\n",
        "ingredients = [\"100 eggs\", \"sugar\", \"butter\", \"flour\"]"
      ],
      "metadata": {
        "id": "JLg7UBTsuj9F"
      },
      "execution_count": null,
      "outputs": []
    },
    {
      "cell_type": "code",
      "source": [
        "# Python for loop example\n",
        "\n",
        "for i in range(10):\n",
        "    print(\"Stir the batter\")"
      ],
      "metadata": {
        "id": "DWQoOEJU6zkV"
      },
      "execution_count": null,
      "outputs": []
    },
    {
      "cell_type": "code",
      "source": [
        "# Python while loop example:\n",
        "\n",
        "while True:\n",
        "    print(\"Stir the batter\")\n",
        "    if batter_looks_ready():\n",
        "        print(\"BREAK, the batter is ready\")\n",
        "        break"
      ],
      "metadata": {
        "id": "CpBDcfwo7taX"
      },
      "execution_count": null,
      "outputs": []
    }
  ]
}